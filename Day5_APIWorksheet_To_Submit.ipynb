{
 "cells": [
  {
   "cell_type": "code",
   "execution_count": 7,
   "metadata": {},
   "outputs": [
    {
     "name": "stdout",
     "output_type": "stream",
     "text": [
      "Countrysingapore\n",
      "Citysingapore\n",
      "<class 'requests.models.Response'>\n",
      "{'coord': {'lon': 103.85, 'lat': 1.29}, 'weather': [{'id': 701, 'main': 'Mist', 'description': 'mist', 'icon': '50n'}], 'base': 'stations', 'main': {'temp': 299.78, 'pressure': 1011, 'humidity': 78, 'temp_min': 297.04, 'temp_max': 301.15}, 'visibility': 10000, 'wind': {'speed': 4.1, 'deg': 140}, 'clouds': {'all': 75}, 'dt': 1568935219, 'sys': {'type': 1, 'id': 9480, 'message': 0.0065, 'country': 'MY', 'sunrise': 1568933694, 'sunset': 1568977307}, 'timezone': 28800, 'id': 1880252, 'name': 'Singapore', 'cod': 200}\n"
     ]
    }
   ],
   "source": [
    "import requests\n",
    "import json\n",
    "country = input(\"Country\")\n",
    "city = input(\"City\")\n",
    "APPID = \"3bab6ea25469efcbd25abaded27bad47\"\n",
    "#url = \"http://api.openweathermap.org/data/2.5/weather?q=London,uk&APPID=3bab6ea25469efcbd25abaded27bad47\"\n",
    "url = f\"http://api.openweathermap.org/data/2.5/weather?q={city},{country}&APPID={APPID}\"\n",
    "\n",
    "#headers = {'user-agent' : 'Mozilla/5.0 (Windows NT 10.0; Win64; x64) AppleWebKit/537.36 (KHTML, like Gecko) Chrome/76.0.3809.132 Safari/537.36'}\n",
    "#headers = {'user-agent': 'Mozilla/5.0 (X11; Linux x86_64) AppleWebKit/537.36 (KHTML, like Gecko) Chrome/77.0.3865.75 Safari/537.36'}\n",
    "\n",
    "\n",
    "resp = requests.get(url)\n",
    "print(type(resp))\n",
    "#data = resp.text\n",
    "#data1 = json.load(resp.text)\n",
    "data2 = resp.json()\n",
    "print(data2)\n"
   ]
  },
  {
   "cell_type": "code",
   "execution_count": null,
   "metadata": {},
   "outputs": [],
   "source": []
  },
  {
   "cell_type": "code",
   "execution_count": null,
   "metadata": {},
   "outputs": [],
   "source": []
  },
  {
   "cell_type": "code",
   "execution_count": null,
   "metadata": {},
   "outputs": [],
   "source": []
  }
 ],
 "metadata": {
  "kernelspec": {
   "display_name": "Python 3",
   "language": "python",
   "name": "python3"
  },
  "language_info": {
   "codemirror_mode": {
    "name": "ipython",
    "version": 3
   },
   "file_extension": ".py",
   "mimetype": "text/x-python",
   "name": "python",
   "nbconvert_exporter": "python",
   "pygments_lexer": "ipython3",
   "version": "3.7.0"
  }
 },
 "nbformat": 4,
 "nbformat_minor": 2
}
